{
 "cells": [
  {
   "cell_type": "markdown",
   "id": "7a7ffa27-223e-432f-817e-4d8e764a6d67",
   "metadata": {},
   "source": [
    "# Le compte est bon\n",
    "---"
   ]
  },
  {
   "cell_type": "code",
   "execution_count": 2,
   "id": "7d675cea-7b78-4c8c-91c0-b05263a1a4ac",
   "metadata": {
    "tags": []
   },
   "outputs": [],
   "source": [
    "# Import des module nécessaires\n",
    "import random as rnd\n",
    "import itertools as it\n",
    "import time"
   ]
  },
  {
   "cell_type": "markdown",
   "id": "665b5b4a-fb22-49f8-82d0-507e45f1a81a",
   "metadata": {},
   "source": [
    "## Fonction générant une nouvelle donne"
   ]
  },
  {
   "cell_type": "code",
   "execution_count": 15,
   "id": "96be1a51-6d0f-4a53-b410-aee12bb8c86b",
   "metadata": {
    "tags": []
   },
   "outputs": [
    {
     "data": {
      "text/plain": [
       "([75, 9, 1, 10, 25, 50], 561)"
      ]
     },
     "execution_count": 15,
     "metadata": {},
     "output_type": "execute_result"
    }
   ],
   "source": [
    "def newGame():\n",
    "    pans = [1, 2, 3, 4, 5, 6, 7, 8, 9, 10, 1, 2, 3, 4, 5, 6, 7, 8, 9, 10, 25, 50, 75, 100]\n",
    "    u = rnd.sample(pans, 6)\n",
    "    code = rnd.randint(101, 999)\n",
    "    return u, code\n",
    "\n",
    "# Exemple de nouvelle donne :\n",
    "newGame()"
   ]
  },
  {
   "cell_type": "markdown",
   "id": "755dd29c-37ae-4802-81fb-8e1a82167764",
   "metadata": {
    "tags": []
   },
   "source": [
    "## Les 4 pérations authorisées entre deux entiers $a \\ge b$"
   ]
  },
  {
   "cell_type": "code",
   "execution_count": 38,
   "id": "dc9f0826-02b5-46e5-ac48-22553922f715",
   "metadata": {
    "tags": []
   },
   "outputs": [
    {
     "name": "stdout",
     "output_type": "stream",
     "text": [
      "operations(26, 26) =  [('+', 52), ('x', 676), ('/', 1)]\n",
      "operations(26, 1) =  [('+', 27), ('-', 25)]\n",
      "operations(26, 3) =  [('+', 29), ('-', 23), ('x', 78)]\n",
      "operations(26, 13) =  [('+', 39), ('-', 13), ('x', 338), ('/', 2)]\n"
     ]
    }
   ],
   "source": [
    "def operations(a, b):\n",
    "    yield '+', a + b\n",
    "    if a > b:\n",
    "        yield '-', a - b\n",
    "    if b > 1:\n",
    "        yield 'x', a * b\n",
    "        if a % b == 0:\n",
    "            yield '/', a // b\n",
    "            \n",
    "# Exemple\n",
    "print('operations(26, 26) = ',list(operations(26, 26)))\n",
    "print('operations(26, 1) = ',list(operations(26, 1)))\n",
    "print('operations(26, 3) = ',list(operations(26, 3)))\n",
    "print('operations(26, 13) = ',list(operations(26, 13)))"
   ]
  },
  {
   "cell_type": "markdown",
   "id": "e9e18bb0-de88-4df6-9d20-ab0559571694",
   "metadata": {},
   "source": [
    "## Fonction listant les choix de 2 éléments parmi $n$ dans une liste donnée sans répétition"
   ]
  },
  {
   "cell_type": "code",
   "execution_count": 41,
   "id": "81529b35-0719-4c15-80af-345ddb1b2fcf",
   "metadata": {
    "tags": []
   },
   "outputs": [
    {
     "name": "stdout",
     "output_type": "stream",
     "text": [
      "Nouvelle donne :  [1, 2, 7, 2, 8, 25] 272\n",
      "Nombre de combinaisons : 11\n",
      "[(2, 1), (7, 1), (8, 1), (25, 1), (7, 2), (2, 2), (8, 2), (25, 2), (8, 7), (25, 7), (25, 8)]\n"
     ]
    }
   ],
   "source": [
    "def combinations(u):\n",
    "    result = []\n",
    "    for a, b in it.combinations(u, 2):\n",
    "        if a < b:\n",
    "            a, b = b, a\n",
    "        if (a, b) not in result:\n",
    "            result.append((a, b))\n",
    "            yield a, b\n",
    "            \n",
    "# Exemple :\n",
    "u, code = newGame()    \n",
    "comb = list(combinations(u))\n",
    "print('Nouvelle donne : ', u, code)\n",
    "print('Nombre de combinaisons : %d' % (len(comb)))\n",
    "print(comb)"
   ]
  },
  {
   "cell_type": "markdown",
   "id": "6616588b-3217-4175-933a-f366cc0f9fff",
   "metadata": {},
   "source": [
    "## Fonction trouvant la solution du jeu ou une solution parmi les plus proches"
   ]
  },
  {
   "cell_type": "code",
   "execution_count": 72,
   "id": "05dc7cea-90c0-43d8-9511-e72d7e034593",
   "metadata": {
    "tags": []
   },
   "outputs": [],
   "source": [
    "def solve(u, code):\n",
    "    def _solve(u, currentResult=\"\"):\n",
    "        global nearestCode, nearestSolution, solution\n",
    "        for a, b in combinations(u):\n",
    "            for operation, result in operations(a, b):\n",
    "                newResult = currentResult + '\\n%d %s %d = %d' % (a, operation, b, result)\n",
    "                if result == code:\n",
    "                    solution.append(newResult)\n",
    "                    return True\n",
    "                elif abs(result - code) < abs(nearestCode- code):\n",
    "                    nearestCode, nearestSolution = result, newResult\n",
    "                uNew = u + [result]\n",
    "                uNew.remove(a)\n",
    "                uNew.remove(b)\n",
    "                if _solve(uNew, newResult):\n",
    "                    return True\n",
    "        return False\n",
    "                    \n",
    "        \n",
    "    global nearestCode, nearestSolution, solution\n",
    "    timeStart = time.time()\n",
    "    nearestCode, nearestSolution, solution = 0, \"\", []\n",
    "    status = _solve(u)\n",
    "    cpuTime = time.time() - timeStart\n",
    "    return status, cpuTime\n",
    "\n"
   ]
  },
  {
   "cell_type": "markdown",
   "id": "3c1ef9b7-aed8-40f8-86a9-88c5fbd9a820",
   "metadata": {},
   "source": [
    "## Lancement du jeu"
   ]
  },
  {
   "cell_type": "code",
   "execution_count": 91,
   "id": "d36e2678-60ab-4b1d-b559-5f22b40f2395",
   "metadata": {
    "tags": []
   },
   "outputs": [
    {
     "name": "stdout",
     "output_type": "stream",
     "text": [
      "Nouvelle donne (u, code) =  [4, 4, 3, 9, 10, 2] 522\n",
      "\n",
      "Une solution est trouvée :\n",
      "\n",
      "4 + 4 = 8\n",
      "9 x 3 = 27\n",
      "10 + 8 = 18\n",
      "27 + 2 = 29\n",
      "29 x 18 = 522\n",
      "\n",
      "cpu_time =      0.002 sec.\n"
     ]
    }
   ],
   "source": [
    "u, code = newGame()\n",
    "# u, code = [9, 9, 3, 1, 2, 1], 774\n",
    "print('Nouvelle donne (u, code) = ', u, code)\n",
    "status, cpu_time = solve(u, code)\n",
    "if status == True:\n",
    "    print('\\nUne solution est trouvée :\\n%s' % (solution[0]))\n",
    "else:\n",
    "    print('\\nUne solution proche est trouvée : %d\\n%s' % (nearestCode, nearestSolution))\n",
    "\n",
    "print('\\ncpu_time = %10.3f sec.' % (cpu_time))"
   ]
  }
 ],
 "metadata": {
  "kernelspec": {
   "display_name": "Python 3 (ipykernel)",
   "language": "python",
   "name": "python3"
  },
  "language_info": {
   "codemirror_mode": {
    "name": "ipython",
    "version": 3
   },
   "file_extension": ".py",
   "mimetype": "text/x-python",
   "name": "python",
   "nbconvert_exporter": "python",
   "pygments_lexer": "ipython3",
   "version": "3.11.4"
  }
 },
 "nbformat": 4,
 "nbformat_minor": 5
}
